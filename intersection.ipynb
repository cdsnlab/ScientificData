{
 "cells": [
  {
   "cell_type": "code",
   "execution_count": null,
   "metadata": {},
   "outputs": [],
   "source": [
    "import pandas as pd\n",
    "import numpy as np\n",
    "import glob\n",
    "import datetime as dt\n",
    "import seaborn as sns\n",
    "import pickle\n",
    "import matplotlib.pyplot as plt"
   ]
  },
  {
   "cell_type": "code",
   "execution_count": null,
   "metadata": {},
   "outputs": [],
   "source": [
    "from dataset.filter import monnit_sensors_old as mso\n",
    "from dataset.filter import monnit_sensors_new as msn\n",
    "from dataset.filter import integration_"
   ]
  },
  {
   "cell_type": "code",
   "execution_count": null,
   "metadata": {},
   "outputs": [],
   "source": [
    "\"\"\"\n",
    "    load train and db\n",
    "\"\"\"\n",
    "# 1. training_data\n",
    "\n",
    "df_train=[]\n",
    "for csvfile in glob.glob(\"./dataset/training_data/*.csv\"):\n",
    "    df=pd.read_csv(csvfile, header=None, delimiter=',')\n",
    "    df.columns=['sensor','value','timestamp']\n",
    "    df=df[df.sensor.isin(mso.keys())]\n",
    "    df_train.append(df)\n",
    "df_train=pd.concat(df_train)\n",
    "\n",
    "for k, v in mso.items():\n",
    "    df_train.loc[df_train.sensor==k, 'sensor']=v\n",
    "\n",
    "# 2. mongoDB\n",
    "with open(\"./dataset/mongoDB/data_db.pkl\",\"rb\") as f:\n",
    "    data=pickle.load(f)\n",
    "df_db=pd.DataFrame([list(datum.values())[2:5] for datum in data])\n",
    "df_db.columns=['sensor','value','timestamp']\n",
    "df_db=df_db[df_db.sensor.isin(mso.keys())]\n",
    "df_db.timestamp=df_db.timestamp.div(1000)\n",
    "\n",
    "for k, v in mso.items():\n",
    "    df_db.loc[df_db.sensor==k, 'sensor']=v\n",
    "\n",
    "df_total=pd.concat([df_db, df_train])\n",
    "sensor_list=sorted(set(df_total.sensor))\n",
    "# sensor_list"
   ]
  },
  {
   "cell_type": "code",
   "execution_count": null,
   "metadata": {},
   "outputs": [],
   "source": [
    "\"\"\"\n",
    "existance dates of each sensor\n",
    "\"\"\"\n",
    "daybysensor={}\n",
    "for sensor_ in sensor_list:\n",
    "\n",
    "    df=df_total[df_total.sensor==sensor_]\n",
    "    df_timestamps=np.array([dt.datetime.fromtimestamp(t) for t in df.timestamp.tolist()])\n",
    "\n",
    "    dt_set=set()\n",
    "    for t in df_timestamps:\n",
    "        # dy, dm, dd = t.year, t.month, t.day\n",
    "        dt_set.add(dt.datetime(t.year, t.month, t.day))\n",
    "    \n",
    "    daybysensor[sensor_]=dt_set"
   ]
  },
  {
   "cell_type": "code",
   "execution_count": null,
   "metadata": {},
   "outputs": [],
   "source": [
    "\"\"\"\n",
    "    load non-monnit\n",
    "\"\"\"\n",
    "data=pd.read_excel(glob.glob(\"./dataset/*.xlsx\")[0])\n",
    "\n",
    "agentdict={i:item for i, item in enumerate(list(data.sensor))}\n",
    "agentdate={item:set() for item in data.sensor}\n",
    "\n",
    "for item in data.columns[1:]:\n",
    "    dt_=dt.datetime.strptime(item, \"%y/%m/%d\")\n",
    "    bin_=list(data[item])\n",
    "    for i, item in enumerate(bin_):\n",
    "        if item==1:\n",
    "            agentdate[agentdict[i]].add(dt_)"
   ]
  },
  {
   "cell_type": "code",
   "execution_count": null,
   "metadata": {},
   "outputs": [],
   "source": [
    "\"\"\"\n",
    "    load imonnit\n",
    "\"\"\"\n",
    "imonnit_dict={}\n",
    "for parent_ in glob.glob(\"./dataset/imonnit/*\"):\n",
    "    file_=glob.glob(\"{}/*.npy\".format(parent_))[0]\n",
    "    sensor=file_.split(\"/\")[-1].split(\".\")[0]\n",
    "    timestamp_col=np.load(file_)[:,0]\n",
    "    dts_=[dt.datetime.fromtimestamp(float(item)/1000.) for item in timestamp_col]\n",
    "    dateset=set([dt.datetime(item.year, item.month, item.day) for item in dts_])\n",
    "    if sensor not in msn.keys():\n",
    "        print(sensor)\n",
    "        raise ValueError\n",
    "    imonnit_dict[msn[sensor]]=dateset"
   ]
  },
  {
   "cell_type": "code",
   "execution_count": null,
   "metadata": {},
   "outputs": [],
   "source": [
    "agg_={**daybysensor, **agentdate, **imonnit_dict}\n",
    "agg={}\n",
    "for k, v in agg_.items():\n",
    "    if integration_[k] in agg.keys():\n",
    "        agg[integration_[k]]=agg[integration_[k]]|v\n",
    "    else:\n",
    "        agg[integration_[k]]=v\n",
    "\n",
    "sensors, dates = [], []\n",
    "\n",
    "for k, v in agg.items():\n",
    "    sensors+=[k for i in range(len(v))]\n",
    "    dates+=list(v)\n",
    "\n",
    "d={'sensor': sensors, 'day': dates}\n",
    "df=pd.DataFrame(data=d); df['exist']=1\n",
    "\n",
    "df_pivot=df.pivot('sensor', 'day', 'exist').fillna(0)"
   ]
  },
  {
   "cell_type": "code",
   "execution_count": null,
   "metadata": {},
   "outputs": [],
   "source": [
    "fig, ax = plt.subplots(figsize=(20,20))\n",
    "ax=sns.heatmap(df_pivot, vmin=0, vmax=1, cbar=False, cmap='Accent')\n",
    "# x_dates=(df['day']).dt.strftime('%Y-%m').sort_values().unique(); print(x_dates)\n",
    "plt.savefig(\"./graphs/heatmap_intersection.png\", dpi=300)"
   ]
  },
  {
   "cell_type": "code",
   "execution_count": 33,
   "metadata": {},
   "outputs": [
    {
     "name": "stdout",
     "output_type": "stream",
     "text": [
      "[ 0. 10. 20. 30. 40. 31. 41.]\n"
     ]
    },
    {
     "data": {
      "image/png": "[encoded data removed]",
      "text/plain": [
       "<Figure size 1440x1080 with 1 Axes>"
      ]
     },
     "metadata": {
      "needs_background": "light"
     },
     "output_type": "display_data"
    }
   ],
   "source": [
    "l=[]\n",
    "cols=sorted([item.to_pydatetime() for item in df_pivot.columns])\n",
    "min_dt, max_dt=cols[0], cols[-1]\n",
    "curr_dt=min_dt\n",
    "while curr_dt!=max_dt:\n",
    "    if curr_dt not in cols:\n",
    "        l.append((0,curr_dt))\n",
    "    else:\n",
    "        l.append((sum(df_pivot[curr_dt].fillna(0)), curr_dt))\n",
    "    curr_dt+=dt.timedelta(days=1)\n",
    "\n",
    "xaxis=[item[1] for item in l]\n",
    "yaxis=[item[0] for item in l]\n",
    "fig, ax = plt.subplots(figsize=(20,15))\n",
    "ax.plot(xaxis, yaxis, 'g.')\n",
    "ax.axhline(y=len(agg.keys()))\n",
    "xt=ax.get_yticks(); xt=xt[1:-1]\n",
    "xt=np.append(xt, [max(yaxis), len(agg.keys())]); print(xt)\n",
    "ax.set_yticks(xt)\n",
    "\n",
    "plt.savefig(\"./graphs/intersection_count.png\", dpi=300)\n"
   ]
  }
 ],
 "metadata": {
  "interpreter": {
   "hash": "31f2aee4e71d21fbe5cf8b01ff0e069b9275f58929596ceb00d14d90e3e16cd6"
  },
  "kernelspec": {
   "display_name": "Python 3.8.10 64-bit",
   "name": "python3"
  },
  "language_info": {
   "codemirror_mode": {
    "name": "ipython",
    "version": 3
   },
   "file_extension": ".py",
   "mimetype": "text/x-python",
   "name": "python",
   "nbconvert_exporter": "python",
   "pygments_lexer": "ipython3",
   "version": "3.8.10"
  },
  "orig_nbformat": 4
 },
 "nbformat": 4,
 "nbformat_minor": 2
}