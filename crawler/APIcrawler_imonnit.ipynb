{
 "cells": [
  {
   "cell_type": "code",
   "execution_count": null,
   "metadata": {},
   "outputs": [],
   "source": [
    "import requests\n",
    "import glob\n",
    "import json\n",
    "import datetime as dt\n",
    "import numpy as np\n",
    "import pandas as pd\n",
    "import time"
   ]
  },
  {
   "cell_type": "code",
   "execution_count": null,
   "metadata": {},
   "outputs": [],
   "source": [
    "requestURL=\"https://www.imonnit.com/json/SensorDataMessages\"\n",
    "\n",
    "with open(\"./APIKey_imonnit.json\") as f:\n",
    "    headers=json.load(f)\n",
    "\n",
    "targetSensorIDs={\n",
    "    505723: \"CH1A\",\n",
    "    505717: \"CH1B\",\n",
    "    505766: \"CH2A\",\n",
    "    505751: \"CH2B\",\n",
    "    505805: \"CH3A\",\n",
    "    505745: \"CH3B\",\n",
    "    505786: \"CH4A\",\n",
    "    505797: \"CH4B\",\n",
    "    505768: \"CH5A\",\n",
    "    505801: \"CH5B\",\n",
    "    505796: \"CH6A\",\n",
    "    505798: \"CH6B\",\n",
    "    505778: \"CH7A\",\n",
    "    505789: \"CH7B\"\n",
    "}\n",
    "\n",
    "initial_date=dt.datetime(2020, 5, 1)\n",
    "latest_date=dt.datetime(2021, 6, 26)"
   ]
  },
  {
   "cell_type": "code",
   "execution_count": null,
   "metadata": {},
   "outputs": [],
   "source": [
    "for k, v in targetSensorIDs.items():\n",
    "    \"\"\"\n",
    "     1. set parameters\n",
    "        a. set sensor ID (Done)\n",
    "        b. set from Date and to Date (API limits 7 days window)\n",
    "\n",
    "    \"\"\"\n",
    "    print(k)\n",
    "    from_date=initial_date\n",
    "    end_date=from_date+dt.timedelta(days=7)\n",
    "\n",
    "    l=[]\n",
    "    while from_date!=latest_date:\n",
    "\n",
    "        from_string=\"{}-{}-{}\".format(from_date.year, from_date.month, from_date.day)\n",
    "        end_string=\"{}-{}-{}\".format(end_date.year, end_date.month, end_date.day)\n",
    "\n",
    "        parameters={\n",
    "            \"sensorID\": k,\n",
    "            \"fromDate\": from_string,\n",
    "            \"toDate\": end_string\n",
    "        }\n",
    "\n",
    "        r=requests.post(requestURL, data=parameters, headers=headers)\n",
    "\n",
    "        data=json.loads(r.content)\n",
    "        \n",
    "        for item in data['Result']:\n",
    "            timestamp=item['MessageDate'].split(\")\")[0].split(\"(\")[1]\n",
    "            value=item['DataValues']\n",
    "            l.append((timestamp, value))\n",
    "\n",
    "        from_date=min(end_date+dt.timedelta(days=1), latest_date)\n",
    "        end_date=min(from_date+dt.timedelta(days=7), latest_date)\n",
    "\n",
    "    np.save(\"./imonnit/{}.npy\".format(v), l)"
   ]
  },
  {
   "cell_type": "code",
   "execution_count": null,
   "metadata": {},
   "outputs": [],
   "source": [
    "\n",
    "for file_ in sorted(glob.glob(\"./imonnit/*.npy\")):\n",
    "    max_date, min_date=dt.datetime(1970, 1, 1), dt.datetime(2022, 1, 1)\n",
    "    data=np.load(file_)\n",
    "    for item in data:\n",
    "        timestamp=dt.datetime.fromtimestamp(float(item[0])/1000.)\n",
    "        if timestamp>max_date:\n",
    "            max_date=timestamp\n",
    "        if timestamp<min_date:\n",
    "            min_date=timestamp\n",
    "    print(file_, min_date, max_date)\n",
    "    "
   ]
  },
  {
   "cell_type": "code",
   "execution_count": null,
   "metadata": {},
   "outputs": [],
   "source": [
    "for parent_folder in sorted(glob.glob(\"./imonnit/*\")):\n",
    "    folder_name=parent_folder.split(\"/\")[-1]\n",
    "    print(parent_folder)\n",
    "    csv_list=glob.glob(\"{}/*.csv\".format(parent_folder))\n",
    "    if len(csv_list)==0:\n",
    "        continue\n",
    "    dfs=[]\n",
    "    for csv_file in csv_list:\n",
    "        print(csv_file)\n",
    "        df=pd.read_csv(csv_file)\n",
    "        df_date=[dt.datetime.strptime(item, \"%m/%d/%Y %I:%M %p\") for item in df['Date']]\n",
    "        df_date=[[item.timestamp()*1000] for item in df_date]\n",
    "        if 'Air Quality' in csv_file:\n",
    "            df_data=[item.split(\"|\")[:3] for item in df['Raw Data']]\n",
    "        elif 'Aircon' in csv_file:\n",
    "            df_data=[item.split(\",\")[:2] for item in df['Raw Data']]\n",
    "        else:\n",
    "            df_data=[[0] if item==\"False\" else [1] for item in df['Raw Data']]\n",
    "\n",
    "        assert len(df_data)==len(df_date), \"ERROR\"\n",
    "\n",
    "        df_file=[df_date[i]+df_data[i] for i in range(len(df_date))]\n",
    "        dfs+=df_file\n",
    "    dfs=np.array(dfs)\n",
    "\n",
    "    for i in range(1, dfs.shape[1]):\n",
    "        print(set(dfs[:,i]))\n",
    "    np.save(\"./imonnit/{}.npy\".format(folder_name), dfs)\n",
    "    "
   ]
  },
  {
   "cell_type": "code",
   "execution_count": null,
   "metadata": {},
   "outputs": [],
   "source": [
    "\"\""
   ]
  }
 ],
 "metadata": {
  "interpreter": {
   "hash": "31f2aee4e71d21fbe5cf8b01ff0e069b9275f58929596ceb00d14d90e3e16cd6"
  },
  "kernelspec": {
   "display_name": "Python 3.8.10 64-bit",
   "name": "python3"
  },
  "language_info": {
   "name": "python",
   "version": ""
  },
  "orig_nbformat": 4
 },
 "nbformat": 4,
 "nbformat_minor": 2
}